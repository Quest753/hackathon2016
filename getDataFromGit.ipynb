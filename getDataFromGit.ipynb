{
 "cells": [
  {
   "cell_type": "code",
   "execution_count": 51,
   "metadata": {
    "collapsed": true
   },
   "outputs": [],
   "source": [
    "import json\n",
    "import pandas as pd\n",
    "import numpy as np"
   ]
  },
  {
   "cell_type": "code",
   "execution_count": 36,
   "metadata": {
    "collapsed": true
   },
   "outputs": [],
   "source": [
    "union_skills = ['ABAP',\n",
    " 'ASP',\n",
    " 'Assembly',\n",
    " 'C#',\n",
    " 'C++',\n",
    " 'CMake',\n",
    " 'CSS',\n",
    " 'Clojure',\n",
    " 'CoffeeScript',\n",
    " 'ColdFusion',\n",
    " 'Delphi',\n",
    " 'FreeMarker',\n",
    " 'GLSL',\n",
    " 'Go',\n",
    " 'Groovy',\n",
    " 'HTML',\n",
    " 'Handlebars',\n",
    " 'Java',\n",
    " 'JavaScript',\n",
    " 'Kotlin',\n",
    " 'Lua',\n",
    " 'Nginx',\n",
    " 'Objective-C',\n",
    " 'PHP',\n",
    " 'Perl',\n",
    " 'PowerShell',\n",
    " 'Puppet',\n",
    " 'Python',\n",
    " 'Ruby',\n",
    " 'SQL',\n",
    " 'Smarty',\n",
    " 'Swift',\n",
    " 'TypeScript',\n",
    " 'Visual Basic',\n",
    " 'XML',\n",
    " 'XSLT']"
   ]
  },
  {
   "cell_type": "code",
   "execution_count": 37,
   "metadata": {
    "collapsed": false
   },
   "outputs": [],
   "source": [
    "skills = {}\n",
    "for i in range(len(union_skills)):\n",
    "    skills[union_skills[i]] = i"
   ]
  },
  {
   "cell_type": "code",
   "execution_count": 38,
   "metadata": {
    "collapsed": false
   },
   "outputs": [
    {
     "data": {
      "text/plain": [
       "{'ABAP': 0,\n",
       " 'ASP': 1,\n",
       " 'Assembly': 2,\n",
       " 'C#': 3,\n",
       " 'C++': 4,\n",
       " 'CMake': 5,\n",
       " 'CSS': 6,\n",
       " 'Clojure': 7,\n",
       " 'CoffeeScript': 8,\n",
       " 'ColdFusion': 9,\n",
       " 'Delphi': 10,\n",
       " 'FreeMarker': 11,\n",
       " 'GLSL': 12,\n",
       " 'Go': 13,\n",
       " 'Groovy': 14,\n",
       " 'HTML': 15,\n",
       " 'Handlebars': 16,\n",
       " 'Java': 17,\n",
       " 'JavaScript': 18,\n",
       " 'Kotlin': 19,\n",
       " 'Lua': 20,\n",
       " 'Nginx': 21,\n",
       " 'Objective-C': 22,\n",
       " 'PHP': 23,\n",
       " 'Perl': 24,\n",
       " 'PowerShell': 25,\n",
       " 'Puppet': 26,\n",
       " 'Python': 27,\n",
       " 'Ruby': 28,\n",
       " 'SQL': 29,\n",
       " 'Smarty': 30,\n",
       " 'Swift': 31,\n",
       " 'TypeScript': 32,\n",
       " 'Visual Basic': 33,\n",
       " 'XML': 34,\n",
       " 'XSLT': 35}"
      ]
     },
     "execution_count": 38,
     "metadata": {},
     "output_type": "execute_result"
    }
   ],
   "source": [
    "skills"
   ]
  },
  {
   "cell_type": "code",
   "execution_count": 68,
   "metadata": {
    "collapsed": true
   },
   "outputs": [],
   "source": [
    "def getDataFromGit(raw_data):\n",
    "    ans = pd.DataFrame(columns=union_skills)\n",
    "    for user in raw_data:\n",
    "        row = []\n",
    "        for i in range(len(union_skills)):\n",
    "            row.append(0)\n",
    "        for skill in user[0]:\n",
    "            row[skills[skill]] = user[0][skill]\n",
    "        ans = ans.append(pd.DataFrame(np.array(row).reshape(1, -1), columns=union_skills))\n",
    "    return ans"
   ]
  },
  {
   "cell_type": "code",
   "execution_count": 81,
   "metadata": {
    "collapsed": true
   },
   "outputs": [],
   "source": [
    "def getObject(user):\n",
    "    ans = []\n",
    "    languages = {}\n",
    "    tmp = user[user.find('{') + 1 : user.find('}')].strip() + ','\n",
    "    while tmp.find(',') >= 0:\n",
    "        lang = tmp[1 : tmp.find(':') - 1].strip()\n",
    "        if '\"' in lang:\n",
    "            lang = lang[1:]\n",
    "        exp = float(tmp[tmp.find(':') + 1 : tmp.find(',')].strip())\n",
    "        languages[lang] = exp\n",
    "        tmp = tmp[tmp.find(',') + 1 :]\n",
    "        \n",
    "    ans.append(languages)\n",
    "    user = user[user.find('}') + 2 :]\n",
    "    \n",
    "    while user.find(',') >= 0:\n",
    "        ans.append(int(user[: user.find(',')]))\n",
    "        user = user[user.find(',') + 1: ]\n",
    "        \n",
    "    ans.append(user[3: len(user) - 2])\n",
    "    return ans"
   ]
  },
  {
   "cell_type": "code",
   "execution_count": 83,
   "metadata": {
    "collapsed": false
   },
   "outputs": [
    {
     "name": "stdout",
     "output_type": "stream",
     "text": [
      "87\n"
     ]
    }
   ],
   "source": [
    "with open('data-Copy1.txt', 'r') as file:\n",
    "#     print(str(file.read()))\n",
    "    data = file.read()\n",
    "    print(data.count('['))\n",
    "#     print(data)\n",
    "    all_users = []\n",
    "    while len(data) > 0:\n",
    "        try:\n",
    "            all_users.append(getObject(data[1:data.find(']')]))\n",
    "        except:    \n",
    "            data = data[data.find(']') + 1: ]\n",
    "            continue\n",
    "        data = data[data.find(']') + 1: ]"
   ]
  },
  {
   "cell_type": "code",
   "execution_count": 84,
   "metadata": {
    "collapsed": false
   },
   "outputs": [],
   "source": [
    "final_data = getDataFromGit(all_users)"
   ]
  },
  {
   "cell_type": "code",
   "execution_count": 86,
   "metadata": {
    "collapsed": false
   },
   "outputs": [
    {
     "data": {
      "text/plain": [
       "(85, 36)"
      ]
     },
     "execution_count": 86,
     "metadata": {},
     "output_type": "execute_result"
    }
   ],
   "source": [
    "final_data.shape"
   ]
  },
  {
   "cell_type": "code",
   "execution_count": 78,
   "metadata": {
    "collapsed": true
   },
   "outputs": [],
   "source": [
    "a = pd.read_csv('hhImprovedCleared.csv')"
   ]
  },
  {
   "cell_type": "code",
   "execution_count": 79,
   "metadata": {
    "collapsed": false
   },
   "outputs": [
    {
     "data": {
      "text/html": [
       "<div>\n",
       "<table border=\"1\" class=\"dataframe\">\n",
       "  <thead>\n",
       "    <tr style=\"text-align: right;\">\n",
       "      <th></th>\n",
       "      <th>ABAP</th>\n",
       "      <th>ASP</th>\n",
       "      <th>Assembly</th>\n",
       "      <th>C#</th>\n",
       "      <th>C++</th>\n",
       "      <th>CMake</th>\n",
       "      <th>CSS</th>\n",
       "      <th>Clojure</th>\n",
       "      <th>CoffeeScript</th>\n",
       "      <th>ColdFusion</th>\n",
       "      <th>...</th>\n",
       "      <th>Python</th>\n",
       "      <th>Ruby</th>\n",
       "      <th>SQL</th>\n",
       "      <th>Smarty</th>\n",
       "      <th>Swift</th>\n",
       "      <th>TypeScript</th>\n",
       "      <th>Visual Basic</th>\n",
       "      <th>XML</th>\n",
       "      <th>XSLT</th>\n",
       "      <th>Salary</th>\n",
       "    </tr>\n",
       "  </thead>\n",
       "  <tbody>\n",
       "    <tr>\n",
       "      <th>0</th>\n",
       "      <td>0.0</td>\n",
       "      <td>0.0</td>\n",
       "      <td>0.0</td>\n",
       "      <td>0.0</td>\n",
       "      <td>0.0</td>\n",
       "      <td>0.0</td>\n",
       "      <td>0.000000</td>\n",
       "      <td>0.0</td>\n",
       "      <td>0.0</td>\n",
       "      <td>0.0</td>\n",
       "      <td>...</td>\n",
       "      <td>0.0</td>\n",
       "      <td>0.000000</td>\n",
       "      <td>0.000000</td>\n",
       "      <td>0.0</td>\n",
       "      <td>0.0</td>\n",
       "      <td>0.0</td>\n",
       "      <td>0.0</td>\n",
       "      <td>0.0</td>\n",
       "      <td>0.0</td>\n",
       "      <td>93119.392280</td>\n",
       "    </tr>\n",
       "    <tr>\n",
       "      <th>1</th>\n",
       "      <td>0.0</td>\n",
       "      <td>0.0</td>\n",
       "      <td>0.0</td>\n",
       "      <td>0.0</td>\n",
       "      <td>0.0</td>\n",
       "      <td>0.0</td>\n",
       "      <td>0.000000</td>\n",
       "      <td>0.0</td>\n",
       "      <td>0.0</td>\n",
       "      <td>0.0</td>\n",
       "      <td>...</td>\n",
       "      <td>0.0</td>\n",
       "      <td>6.272346</td>\n",
       "      <td>0.000000</td>\n",
       "      <td>0.0</td>\n",
       "      <td>0.0</td>\n",
       "      <td>0.0</td>\n",
       "      <td>0.0</td>\n",
       "      <td>0.0</td>\n",
       "      <td>0.0</td>\n",
       "      <td>100281.954223</td>\n",
       "    </tr>\n",
       "    <tr>\n",
       "      <th>2</th>\n",
       "      <td>0.0</td>\n",
       "      <td>0.0</td>\n",
       "      <td>0.0</td>\n",
       "      <td>0.0</td>\n",
       "      <td>0.0</td>\n",
       "      <td>0.0</td>\n",
       "      <td>0.000000</td>\n",
       "      <td>0.0</td>\n",
       "      <td>0.0</td>\n",
       "      <td>0.0</td>\n",
       "      <td>...</td>\n",
       "      <td>0.0</td>\n",
       "      <td>0.000000</td>\n",
       "      <td>0.000000</td>\n",
       "      <td>0.0</td>\n",
       "      <td>0.0</td>\n",
       "      <td>0.0</td>\n",
       "      <td>0.0</td>\n",
       "      <td>0.0</td>\n",
       "      <td>0.0</td>\n",
       "      <td>50824.346546</td>\n",
       "    </tr>\n",
       "    <tr>\n",
       "      <th>3</th>\n",
       "      <td>0.0</td>\n",
       "      <td>0.0</td>\n",
       "      <td>0.0</td>\n",
       "      <td>0.0</td>\n",
       "      <td>0.0</td>\n",
       "      <td>0.0</td>\n",
       "      <td>6.280551</td>\n",
       "      <td>0.0</td>\n",
       "      <td>0.0</td>\n",
       "      <td>0.0</td>\n",
       "      <td>...</td>\n",
       "      <td>0.0</td>\n",
       "      <td>0.000000</td>\n",
       "      <td>0.000000</td>\n",
       "      <td>0.0</td>\n",
       "      <td>0.0</td>\n",
       "      <td>0.0</td>\n",
       "      <td>0.0</td>\n",
       "      <td>0.0</td>\n",
       "      <td>0.0</td>\n",
       "      <td>15626.186064</td>\n",
       "    </tr>\n",
       "    <tr>\n",
       "      <th>4</th>\n",
       "      <td>0.0</td>\n",
       "      <td>0.0</td>\n",
       "      <td>0.0</td>\n",
       "      <td>0.0</td>\n",
       "      <td>0.0</td>\n",
       "      <td>0.0</td>\n",
       "      <td>6.775590</td>\n",
       "      <td>0.0</td>\n",
       "      <td>0.0</td>\n",
       "      <td>0.0</td>\n",
       "      <td>...</td>\n",
       "      <td>0.0</td>\n",
       "      <td>6.710762</td>\n",
       "      <td>6.743112</td>\n",
       "      <td>0.0</td>\n",
       "      <td>0.0</td>\n",
       "      <td>0.0</td>\n",
       "      <td>0.0</td>\n",
       "      <td>0.0</td>\n",
       "      <td>0.0</td>\n",
       "      <td>95351.762213</td>\n",
       "    </tr>\n",
       "  </tbody>\n",
       "</table>\n",
       "<p>5 rows × 37 columns</p>\n",
       "</div>"
      ],
      "text/plain": [
       "   ABAP  ASP  Assembly   C#  C++  CMake       CSS  Clojure  CoffeeScript  \\\n",
       "0   0.0  0.0       0.0  0.0  0.0    0.0  0.000000      0.0           0.0   \n",
       "1   0.0  0.0       0.0  0.0  0.0    0.0  0.000000      0.0           0.0   \n",
       "2   0.0  0.0       0.0  0.0  0.0    0.0  0.000000      0.0           0.0   \n",
       "3   0.0  0.0       0.0  0.0  0.0    0.0  6.280551      0.0           0.0   \n",
       "4   0.0  0.0       0.0  0.0  0.0    0.0  6.775590      0.0           0.0   \n",
       "\n",
       "   ColdFusion      ...        Python      Ruby       SQL  Smarty  Swift  \\\n",
       "0         0.0      ...           0.0  0.000000  0.000000     0.0    0.0   \n",
       "1         0.0      ...           0.0  6.272346  0.000000     0.0    0.0   \n",
       "2         0.0      ...           0.0  0.000000  0.000000     0.0    0.0   \n",
       "3         0.0      ...           0.0  0.000000  0.000000     0.0    0.0   \n",
       "4         0.0      ...           0.0  6.710762  6.743112     0.0    0.0   \n",
       "\n",
       "   TypeScript  Visual Basic  XML  XSLT         Salary  \n",
       "0         0.0           0.0  0.0   0.0   93119.392280  \n",
       "1         0.0           0.0  0.0   0.0  100281.954223  \n",
       "2         0.0           0.0  0.0   0.0   50824.346546  \n",
       "3         0.0           0.0  0.0   0.0   15626.186064  \n",
       "4         0.0           0.0  0.0   0.0   95351.762213  \n",
       "\n",
       "[5 rows x 37 columns]"
      ]
     },
     "execution_count": 79,
     "metadata": {},
     "output_type": "execute_result"
    }
   ],
   "source": [
    "a.head()"
   ]
  },
  {
   "cell_type": "code",
   "execution_count": null,
   "metadata": {
    "collapsed": true
   },
   "outputs": [],
   "source": []
  }
 ],
 "metadata": {
  "anaconda-cloud": {},
  "kernelspec": {
   "display_name": "Python [conda root]",
   "language": "python",
   "name": "conda-root-py"
  },
  "language_info": {
   "codemirror_mode": {
    "name": "ipython",
    "version": 3
   },
   "file_extension": ".py",
   "mimetype": "text/x-python",
   "name": "python",
   "nbconvert_exporter": "python",
   "pygments_lexer": "ipython3",
   "version": "3.5.2"
  }
 },
 "nbformat": 4,
 "nbformat_minor": 1
}
