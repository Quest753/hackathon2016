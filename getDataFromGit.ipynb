{
 "cells": [
  {
   "cell_type": "code",
   "execution_count": 51,
   "metadata": {
    "collapsed": true
   },
   "outputs": [],
   "source": [
    "import json\n",
    "import pandas as pd\n",
    "import numpy as np"
   ]
  },
  {
   "cell_type": "code",
   "execution_count": 36,
   "metadata": {
    "collapsed": true
   },
   "outputs": [],
   "source": [
    "union_skills = ['ABAP',\n",
    " 'ASP',\n",
    " 'Assembly',\n",
    " 'C#',\n",
    " 'C++',\n",
    " 'CMake',\n",
    " 'CSS',\n",
    " 'Clojure',\n",
    " 'CoffeeScript',\n",
    " 'ColdFusion',\n",
    " 'Delphi',\n",
    " 'FreeMarker',\n",
    " 'GLSL',\n",
    " 'Go',\n",
    " 'Groovy',\n",
    " 'HTML',\n",
    " 'Handlebars',\n",
    " 'Java',\n",
    " 'JavaScript',\n",
    " 'Kotlin',\n",
    " 'Lua',\n",
    " 'Nginx',\n",
    " 'Objective-C',\n",
    " 'PHP',\n",
    " 'Perl',\n",
    " 'PowerShell',\n",
    " 'Puppet',\n",
    " 'Python',\n",
    " 'Ruby',\n",
    " 'SQL',\n",
    " 'Smarty',\n",
    " 'Swift',\n",
    " 'TypeScript',\n",
    " 'Visual Basic',\n",
    " 'XML',\n",
    " 'XSLT']"
   ]
  },
  {
   "cell_type": "code",
   "execution_count": 37,
   "metadata": {
    "collapsed": false
   },
   "outputs": [],
   "source": [
    "skills = {}\n",
    "for i in range(len(union_skills)):\n",
    "    skills[union_skills[i]] = i"
   ]
  },
  {
   "cell_type": "code",
   "execution_count": 68,
   "metadata": {
    "collapsed": true
   },
   "outputs": [],
   "source": [
    "def getDataFromGit(raw_data):\n",
    "    ans = pd.DataFrame(columns=union_skills)\n",
    "    \n",
    "    for user in raw_data:\n",
    "        row = []\n",
    "        for i in range(len(union_skills)):\n",
    "            row.append(0)\n",
    "        for skill in user[0]:\n",
    "            row[skills[skill]] = user[0][skill]\n",
    "        ans = ans.append(pd.DataFrame(np.array(row).reshape(1, -1), columns=union_skills))\n",
    "        \n",
    "    return ans"
   ]
  },
  {
   "cell_type": "code",
   "execution_count": 87,
   "metadata": {
    "collapsed": true
   },
   "outputs": [],
   "source": [
    "def getObject(user):\n",
    "    ans = []\n",
    "    languages = {}\n",
    "    tmp = user[user.find('{') + 1 : user.find('}')].strip() + ','\n",
    "    while tmp.find(',') >= 0:\n",
    "        lang = tmp[1 : tmp.find(':') - 1].strip()\n",
    "        if '\"' in lang:\n",
    "            lang = lang[1:]\n",
    "        exp = float(tmp[tmp.find(':') + 1 : tmp.find(',')].strip())\n",
    "        languages[lang] = exp\n",
    "        tmp = tmp[tmp.find(',') + 1 :]\n",
    "        \n",
    "    ans.append(languages)\n",
    "    user = user[user.find('}') + 2 :]\n",
    "    \n",
    "    while user.find(',') >= 0:\n",
    "        ans.append(int(user[: user.find(',')]))\n",
    "        user = user[user.find(',') + 1: ]\n",
    "        \n",
    "    ans.append(user[3: len(user) - 2])\n",
    "    return ans"
   ]
  },
  {
   "cell_type": "code",
   "execution_count": 88,
   "metadata": {
    "collapsed": false
   },
   "outputs": [],
   "source": [
    "all_github = []\n",
    "for i in range(1, 4):\n",
    "    with open('data' + str(i) + '.json', 'r') as file:\n",
    "        data = file.read()\n",
    "        all_users = []\n",
    "        while len(data) > 0:\n",
    "            try:\n",
    "                all_users.append(getObject(data[1:data.find(']')]))\n",
    "            except:    \n",
    "                data = data[data.find(']') + 1: ]\n",
    "                continue\n",
    "            data = data[data.find(']') + 1: ]\n",
    "        all_github += all_users"
   ]
  },
  {
   "cell_type": "code",
   "execution_count": 94,
   "metadata": {
    "collapsed": false
   },
   "outputs": [],
   "source": [
    "final_data = getDataFromGit(all_github)"
   ]
  },
  {
   "cell_type": "code",
   "execution_count": 95,
   "metadata": {
    "collapsed": false
   },
   "outputs": [
    {
     "data": {
      "text/plain": [
       "(25992, 36)"
      ]
     },
     "execution_count": 95,
     "metadata": {},
     "output_type": "execute_result"
    }
   ],
   "source": [
    "final_data.shape"
   ]
  },
  {
   "cell_type": "code",
   "execution_count": 96,
   "metadata": {
    "collapsed": true
   },
   "outputs": [],
   "source": [
    "final_data.to_csv('githubUsersFull.csv', index=None)"
   ]
  },
  {
   "cell_type": "code",
   "execution_count": 92,
   "metadata": {
    "collapsed": true
   },
   "outputs": [],
   "source": [
    "a = pd.read_csv('githubUsers.csv')"
   ]
  },
  {
   "cell_type": "code",
   "execution_count": 97,
   "metadata": {
    "collapsed": true
   },
   "outputs": [],
   "source": [
    "def getValuesForRanging(raw_data):\n",
    "    ans = pd.DataFrame(columns=['Followers', 'Watchers', 'Link'])\n",
    "    \n",
    "    for user in raw_data:\n",
    "        row = [user[1], user[2], user[3]]\n",
    "        ans = ans.append(pd.DataFrame(np.array(row).reshape(1, -1), columns=['Followers', 'Watchers', 'Link']))\n",
    "        \n",
    "    return ans"
   ]
  },
  {
   "cell_type": "code",
   "execution_count": 98,
   "metadata": {
    "collapsed": true
   },
   "outputs": [],
   "source": [
    "ranging = getValuesForRanging(all_github)"
   ]
  },
  {
   "cell_type": "code",
   "execution_count": 99,
   "metadata": {
    "collapsed": false
   },
   "outputs": [
    {
     "data": {
      "text/html": [
       "<div>\n",
       "<table border=\"1\" class=\"dataframe\">\n",
       "  <thead>\n",
       "    <tr style=\"text-align: right;\">\n",
       "      <th></th>\n",
       "      <th>Followers</th>\n",
       "      <th>Watchers</th>\n",
       "      <th>Link</th>\n",
       "    </tr>\n",
       "  </thead>\n",
       "  <tbody>\n",
       "    <tr>\n",
       "      <th>0</th>\n",
       "      <td>24</td>\n",
       "      <td>49</td>\n",
       "      <td>https://github.com/tosch</td>\n",
       "    </tr>\n",
       "    <tr>\n",
       "      <th>0</th>\n",
       "      <td>337</td>\n",
       "      <td>586</td>\n",
       "      <td>https://github.com/jmettraux</td>\n",
       "    </tr>\n",
       "    <tr>\n",
       "      <th>0</th>\n",
       "      <td>131</td>\n",
       "      <td>221</td>\n",
       "      <td>https://github.com/kennethkalmer</td>\n",
       "    </tr>\n",
       "    <tr>\n",
       "      <th>0</th>\n",
       "      <td>227</td>\n",
       "      <td>64</td>\n",
       "      <td>https://github.com/weppos</td>\n",
       "    </tr>\n",
       "    <tr>\n",
       "      <th>0</th>\n",
       "      <td>4</td>\n",
       "      <td>24</td>\n",
       "      <td>https://github.com/anb</td>\n",
       "    </tr>\n",
       "  </tbody>\n",
       "</table>\n",
       "</div>"
      ],
      "text/plain": [
       "  Followers Watchers                              Link\n",
       "0        24       49          https://github.com/tosch\n",
       "0       337      586      https://github.com/jmettraux\n",
       "0       131      221  https://github.com/kennethkalmer\n",
       "0       227       64         https://github.com/weppos\n",
       "0         4       24            https://github.com/anb"
      ]
     },
     "execution_count": 99,
     "metadata": {},
     "output_type": "execute_result"
    }
   ],
   "source": [
    "ranging.head()"
   ]
  },
  {
   "cell_type": "code",
   "execution_count": 103,
   "metadata": {
    "collapsed": false
   },
   "outputs": [],
   "source": [
    "ans = ranging[4:8]"
   ]
  },
  {
   "cell_type": "code",
   "execution_count": 104,
   "metadata": {
    "collapsed": false
   },
   "outputs": [
    {
     "data": {
      "text/html": [
       "<div>\n",
       "<table border=\"1\" class=\"dataframe\">\n",
       "  <thead>\n",
       "    <tr style=\"text-align: right;\">\n",
       "      <th></th>\n",
       "      <th>Followers</th>\n",
       "      <th>Watchers</th>\n",
       "      <th>Link</th>\n",
       "    </tr>\n",
       "  </thead>\n",
       "  <tbody>\n",
       "    <tr>\n",
       "      <th>0</th>\n",
       "      <td>4</td>\n",
       "      <td>24</td>\n",
       "      <td>https://github.com/anb</td>\n",
       "    </tr>\n",
       "    <tr>\n",
       "      <th>0</th>\n",
       "      <td>41</td>\n",
       "      <td>142</td>\n",
       "      <td>https://github.com/ben-biddington</td>\n",
       "    </tr>\n",
       "    <tr>\n",
       "      <th>0</th>\n",
       "      <td>7</td>\n",
       "      <td>549</td>\n",
       "      <td>https://github.com/mschiller</td>\n",
       "    </tr>\n",
       "    <tr>\n",
       "      <th>0</th>\n",
       "      <td>81</td>\n",
       "      <td>336</td>\n",
       "      <td>https://github.com/hasimo</td>\n",
       "    </tr>\n",
       "  </tbody>\n",
       "</table>\n",
       "</div>"
      ],
      "text/plain": [
       "  Followers Watchers                               Link\n",
       "0         4       24             https://github.com/anb\n",
       "0        41      142  https://github.com/ben-biddington\n",
       "0         7      549       https://github.com/mschiller\n",
       "0        81      336          https://github.com/hasimo"
      ]
     },
     "execution_count": 104,
     "metadata": {},
     "output_type": "execute_result"
    }
   ],
   "source": [
    "ans.sort_values(['Followers', 'Watchers'])"
   ]
  },
  {
   "cell_type": "code",
   "execution_count": 106,
   "metadata": {
    "collapsed": false
   },
   "outputs": [
    {
     "data": {
      "text/html": [
       "<div>\n",
       "<table border=\"1\" class=\"dataframe\">\n",
       "  <thead>\n",
       "    <tr style=\"text-align: right;\">\n",
       "      <th></th>\n",
       "      <th>Followers</th>\n",
       "      <th>Watchers</th>\n",
       "      <th>Link</th>\n",
       "    </tr>\n",
       "  </thead>\n",
       "  <tbody>\n",
       "    <tr>\n",
       "      <th>0</th>\n",
       "      <td>24</td>\n",
       "      <td>49</td>\n",
       "      <td>https://github.com/tosch</td>\n",
       "    </tr>\n",
       "    <tr>\n",
       "      <th>0</th>\n",
       "      <td>337</td>\n",
       "      <td>586</td>\n",
       "      <td>https://github.com/jmettraux</td>\n",
       "    </tr>\n",
       "    <tr>\n",
       "      <th>0</th>\n",
       "      <td>131</td>\n",
       "      <td>221</td>\n",
       "      <td>https://github.com/kennethkalmer</td>\n",
       "    </tr>\n",
       "    <tr>\n",
       "      <th>0</th>\n",
       "      <td>227</td>\n",
       "      <td>64</td>\n",
       "      <td>https://github.com/weppos</td>\n",
       "    </tr>\n",
       "    <tr>\n",
       "      <th>0</th>\n",
       "      <td>4</td>\n",
       "      <td>24</td>\n",
       "      <td>https://github.com/anb</td>\n",
       "    </tr>\n",
       "  </tbody>\n",
       "</table>\n",
       "</div>"
      ],
      "text/plain": [
       "  Followers Watchers                              Link\n",
       "0        24       49          https://github.com/tosch\n",
       "0       337      586      https://github.com/jmettraux\n",
       "0       131      221  https://github.com/kennethkalmer\n",
       "0       227       64         https://github.com/weppos\n",
       "0         4       24            https://github.com/anb"
      ]
     },
     "execution_count": 106,
     "metadata": {},
     "output_type": "execute_result"
    }
   ],
   "source": [
    "ranging.head()"
   ]
  },
  {
   "cell_type": "code",
   "execution_count": 108,
   "metadata": {
    "collapsed": false
   },
   "outputs": [],
   "source": [
    "ranging.to_csv('rangingValues.scv')"
   ]
  },
  {
   "cell_type": "code",
   "execution_count": null,
   "metadata": {
    "collapsed": true
   },
   "outputs": [],
   "source": []
  }
 ],
 "metadata": {
  "anaconda-cloud": {},
  "kernelspec": {
   "display_name": "Python [conda root]",
   "language": "python",
   "name": "conda-root-py"
  },
  "language_info": {
   "codemirror_mode": {
    "name": "ipython",
    "version": 3
   },
   "file_extension": ".py",
   "mimetype": "text/x-python",
   "name": "python",
   "nbconvert_exporter": "python",
   "pygments_lexer": "ipython3",
   "version": "3.5.2"
  }
 },
 "nbformat": 4,
 "nbformat_minor": 1
}
