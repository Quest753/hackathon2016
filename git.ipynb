{
 "cells": [
  {
   "cell_type": "code",
   "execution_count": 449,
   "metadata": {
    "collapsed": false,
    "scrolled": true
   },
   "outputs": [],
   "source": [
    "import mysql.connector\n",
    "import numpy as np\n",
    "import json\n",
    "import math\n",
    "from tqdm import tqdm\n",
    "cnx = mysql.connector.connect(user='ght',\n",
    "                              host='roctbb.net',\n",
    "                              database='ghtorrent')\n",
    "cursor = cnx.cursor()"
   ]
  },
  {
   "cell_type": "code",
   "execution_count": 460,
   "metadata": {
    "collapsed": true
   },
   "outputs": [],
   "source": [
    "HH_skill = ['ABAP', 'ASP', 'Assembly', 'C#', 'C++', 'CMake', 'CSS', 'Clojure', 'CoffeeScript', 'ColdFusion', 'Delphi', 'FreeMarker', 'GLSL', 'Go', 'Groovy', 'HTML', 'Handlebars', 'Java', 'JavaScript', 'Kotlin', 'Lua', 'Nginx', 'Objective-C', 'PHP', 'Perl', 'PowerShell', 'Puppet', 'Python', 'Ruby', 'SQL', 'Smarty', 'Swift', 'TypeScript', 'Visual Basic', 'XML', 'XSLT']"
   ]
  },
  {
   "cell_type": "code",
   "execution_count": 463,
   "metadata": {
    "collapsed": true
   },
   "outputs": [],
   "source": [
    "import json\n",
    "import codecs\n",
    "\n",
    "def sv(obj,p,encoding=\"utf8\"):\n",
    "    with codecs.open(p,\"a\",encoding=encoding) as f:\n",
    "        json.dump(obj,f,indent=1,ensure_ascii=0)"
   ]
  },
  {
   "cell_type": "code",
   "execution_count": 456,
   "metadata": {
    "collapsed": false
   },
   "outputs": [],
   "source": [
    "def get_user_experience(user_id, language):\n",
    "    # пробежаться по проектам юзера на этом языке, посмотреть на все коммиты, +\n",
    "    # выбрать самый первый(N) и самый последний(K) день коммита на этом языке,(учитывай год!!!)+\n",
    "    # посчитать количество дней(P), когда чувак коммитил+\n",
    "    # если P/(K - N) >= 1/2Pi, то записываем log(K - N), в противном случае записываем log(P * 2Pi)+\n",
    "    cursor.execute(\"select * from projects where owner_id='%s' and language = '%s';\" %(user_id,language))\n",
    "    userLang = cursor.fetchall()\n",
    "    userLang = sorted([i[6] for i in userLang]) \n",
    "    K_N = (userLang[-1].day+userLang[-1].month*30+userLang[-1].year*365) - (userLang[0].day+userLang[0].month*30+userLang[0].year*365) + 1\n",
    "    man = [(q.day,q.year) for q in userLang]\n",
    "    commitDays = len(list(set(map(tuple, man))))\n",
    "    \n",
    "    if commitDays/float(K_N) >= 1/2*math.pi:\n",
    "            return round(math.log(K_N),4)\n",
    "    return round(math.log(commitDays*2*math.pi),4)"
   ]
  },
  {
   "cell_type": "code",
   "execution_count": 461,
   "metadata": {
    "collapsed": false,
    "scrolled": true
   },
   "outputs": [
    {
     "name": "stderr",
     "output_type": "stream",
     "text": [
      "100%|██████████| 9/9 [00:10<00:00,  1.21s/it]\n"
     ]
    }
   ],
   "source": [
    "main_data = {}\n",
    "unique_skills = np.array([])\n",
    "for user in tqdm(range(1, 10)):\n",
    "    \n",
    "    cursor.execute(\"SELECT * FROM projects where owner_id='%s';\" %user)\n",
    "    user_projects = cursor.fetchall()\n",
    "    \n",
    "    if(len(user_projects)==0 or len(user_projects[0])<=5):\n",
    "        continue\n",
    "    ####[0] - {language: user experience in language}\n",
    "    ####[1] - count user followers\n",
    "    ####[2] - count user wathers\n",
    "    ####[3] - github link from \n",
    "    main_data[user] = [{}, 0, 0, ''] # вот здесь\n",
    "    #++++++\n",
    "    # Антон, пожалуйста, не забудь добавить в main_data дополнитульный параметр\n",
    "    # с ссылкой на настоящий профиль гитхаб юзера\n",
    "    #\n",
    "#     print(user_projects,'\\n\\n\\n')   \n",
    "    user_skills = np.unique([i[5] for i in user_projects if i[5] != None])\n",
    "\n",
    "    user_link = \"https://github.com/\" + user_projects[1][1].split('/')[4]\n",
    "    main_data[user][3] = user_link \n",
    "    \n",
    "    for skill in user_skills:\n",
    "        if skill in HH_skill:\n",
    "            main_data[user][0][skill] = get_user_experience(user, skill)\n",
    "    ### what we heed from this shit \n",
    "    ###\n",
    "    cursor.execute(\"SELECT user_id FROM followers where user_id='%s';\" %user)\n",
    "    main_data[user][1] = len(cursor.fetchall())\n",
    "#     print(main_data[user][1])\n",
    "    cursor.execute(\"SELECT user_id FROM watchers where user_id='%s';\" %user)\n",
    "    main_data[user][2] = len(cursor.fetchall())\n",
    "    \n",
    "    \n",
    "    unique_skills = np.unique(np.append(unique_skills, user_skills))"
   ]
  },
  {
   "cell_type": "code",
   "execution_count": 130,
   "metadata": {
    "collapsed": false
   },
   "outputs": [
    {
     "name": "stdout",
     "output_type": "stream",
     "text": [
      "projects \n",
      " ['id', 'url', 'owner_id', 'name', 'description', 'language', 'created_at', 'forked_from', 'deleted', 'updated_at'] \n",
      "\n",
      "watchers \n",
      " ['repo_id', 'user_id', 'created_at'] \n",
      "\n",
      "followers \n",
      " ['follower_id', 'user_id', 'created_at'] \n",
      "\n",
      "project_members \n",
      " ['repo_id', 'user_id', 'created_at', 'ext_ref_id'] \n",
      "\n",
      "issue_comments \n",
      " ['issue_id', 'user_id', 'comment_id', 'created_at'] \n",
      "\n",
      "project_commits \n",
      " ['project_id', 'commit_id'] \n",
      "\n",
      "repo_labels \n",
      " ['id', 'repo_id', 'name'] \n",
      "\n",
      "repo_milestones \n",
      " ['id', 'repo_id', 'name'] \n",
      "\n",
      "commit_comments \n",
      " ['id', 'commit_id', 'user_id', 'body', 'line', 'position', 'comment_id', 'created_at'] \n",
      "\n",
      "pull_requests \n",
      " ['id', 'head_repo_id', 'base_repo_id', 'head_commit_id', 'base_commit_id', 'pullreq_id', 'intra_branch'] \n",
      "\n",
      "issue_events \n",
      " ['event_id', 'issue_id', 'actor_id', 'action', 'action_specific', 'created_at'] \n",
      "\n",
      "pull_request_commits \n",
      " ['pull_request_id', 'commit_id'] \n",
      "\n",
      "organization_members \n",
      " ['org_id', 'user_id', 'created_at'] \n",
      "\n",
      "pull_request_history \n",
      " ['id', 'pull_request_id', 'created_at', 'action', 'actor_id'] \n",
      "\n",
      "project_languages \n",
      " ['project_id', 'language', 'bytes', 'created_at'] \n",
      "\n",
      "commit_parents \n",
      " ['commit_id', 'parent_id'] \n",
      "\n",
      "pull_request_comments \n",
      " ['pull_request_id', 'user_id', 'comment_id', 'position', 'body', 'commit_id', 'created_at'] \n",
      "\n",
      "users \n",
      " ['id', 'login', 'company', 'location', 'created_at', 'type', 'fake', 'deleted', 'country_code', 'state', 'city'] \n",
      "\n",
      "commits \n",
      " ['id', 'sha', 'author_id', 'committer_id', 'project_id', 'created_at'] \n",
      "\n",
      "issue_labels \n",
      " ['label_id', 'issue_id'] \n",
      "\n",
      "issues \n",
      " ['id', 'repo_id', 'reporter_id', 'assignee_id', 'pull_request', 'pull_request_id', 'created_at', 'issue_id'] \n",
      "\n"
     ]
    }
   ],
   "source": [
    "for user in columns.items():\n",
    "    print(user[0],'\\n',user[1],'\\n')"
   ]
  }
 ],
 "metadata": {
  "kernelspec": {
   "display_name": "Python [py35]",
   "language": "python",
   "name": "Python [py35]"
  },
  "language_info": {
   "codemirror_mode": {
    "name": "ipython",
    "version": 3
   },
   "file_extension": ".py",
   "mimetype": "text/x-python",
   "name": "python",
   "nbconvert_exporter": "python",
   "pygments_lexer": "ipython3",
   "version": "3.5.2"
  }
 },
 "nbformat": 4,
 "nbformat_minor": 0
}
