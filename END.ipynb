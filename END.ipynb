{
 "cells": [
  {
   "cell_type": "code",
   "execution_count": 37,
   "metadata": {
    "collapsed": false
   },
   "outputs": [],
   "source": [
    "# coding: utf-8\n",
    "\n",
    "import pandas as pd\n",
    "import numpy as np\n",
    "import math\n",
    "from tqdm import tqdm\n",
    "import json\n",
    "from sklearn.ensemble import RandomForestRegressor\n",
    "from sklearn.metrics import mean_squared_error\n",
    "from sklearn.decomposition import PCA\n",
    "from sklearn.svm import SVR\n",
    "import pickle\n",
    "#передваемые параметры с сайта\n",
    "string = [\"SQL\", \"Go\", \"Java\",90000]\n",
    "\n",
    "c = pd.DataFrame({'data' : string[:-1]})\n",
    "\n",
    "##информация о людях с гита для предсказания цены\n",
    "new_data = pd.read_csv(\"githubUsersFull.csv\")\n",
    "\n",
    "\n",
    "for i in new_data.columns:\n",
    "    if i not in c['data'].values:\n",
    "        new_data[i] = np.zeros(len(new_data))\n",
    "\n",
    "#загрузка модели для предсказывания цены и обработки датасета из tryingToFitSomeModel.ipynb\n",
    "with open('data.pickle', 'rb') as f:\n",
    "    svr = pickle.load(f)\n",
    "with open('pca.pickle','rb') as f:\n",
    "    a = pickle.load(f)\n",
    "#уменьшение размерности входных данных\n",
    "ans = a.transform(new_data)\n",
    "\n",
    "answers = svr.predict(ans)\n",
    "answers = pd.DataFrame(answers,columns = ['Salay'])\n",
    "\n",
    "#предсказанные цены для \n",
    "sals = np.exp(answers.values)\n",
    "\n",
    "#полная информация о пользователях с гита\n",
    "ranging = pd.read_csv('rangingValues.csv')\n",
    "\n",
    "del ranging['Unnamed: 0']\n",
    "ranging['Salary'] = sals\n",
    "\n",
    "##выбор пользователей, подходящих под запрос\n",
    "ans = ranging[(ranging.Salary <= string[-1] * 1.1) & (ranging.Salary >= string[-1] * 0.9)]\n",
    "ans = ans.sort_values(['Watchers', 'Followers'])[::-1]\n",
    "#ans.to_csv('answer11111-.csv')"
   ]
  },
  {
   "cell_type": "code",
   "execution_count": 10,
   "metadata": {
    "collapsed": false
   },
   "outputs": [
    {
     "data": {
      "text/html": [
       "<div>\n",
       "<table border=\"1\" class=\"dataframe\">\n",
       "  <thead>\n",
       "    <tr style=\"text-align: right;\">\n",
       "      <th></th>\n",
       "      <th>Followers</th>\n",
       "      <th>Watchers</th>\n",
       "      <th>Link</th>\n",
       "      <th>Salary</th>\n",
       "    </tr>\n",
       "  </thead>\n",
       "  <tbody>\n",
       "    <tr>\n",
       "      <th>20876</th>\n",
       "      <td>21699</td>\n",
       "      <td>37</td>\n",
       "      <td>https://github.com/mojombo</td>\n",
       "      <td>73222.975795</td>\n",
       "    </tr>\n",
       "    <tr>\n",
       "      <th>14594</th>\n",
       "      <td>21027</td>\n",
       "      <td>412</td>\n",
       "      <td>https://github.com/paulirish</td>\n",
       "      <td>78782.359350</td>\n",
       "    </tr>\n",
       "    <tr>\n",
       "      <th>18394</th>\n",
       "      <td>19955</td>\n",
       "      <td>396</td>\n",
       "      <td>https://github.com/addyosmani</td>\n",
       "      <td>79863.441800</td>\n",
       "    </tr>\n",
       "    <tr>\n",
       "      <th>24035</th>\n",
       "      <td>12301</td>\n",
       "      <td>26</td>\n",
       "      <td>https://github.com/mbostock</td>\n",
       "      <td>82253.173617</td>\n",
       "    </tr>\n",
       "    <tr>\n",
       "      <th>15088</th>\n",
       "      <td>11594</td>\n",
       "      <td>293</td>\n",
       "      <td>https://github.com/mattt</td>\n",
       "      <td>73169.072537</td>\n",
       "    </tr>\n",
       "  </tbody>\n",
       "</table>\n",
       "</div>"
      ],
      "text/plain": [
       "       Followers  Watchers                           Link        Salary\n",
       "20876      21699        37     https://github.com/mojombo  73222.975795\n",
       "14594      21027       412   https://github.com/paulirish  78782.359350\n",
       "18394      19955       396  https://github.com/addyosmani  79863.441800\n",
       "24035      12301        26    https://github.com/mbostock  82253.173617\n",
       "15088      11594       293       https://github.com/mattt  73169.072537"
      ]
     },
     "execution_count": 10,
     "metadata": {},
     "output_type": "execute_result"
    }
   ],
   "source": [
    "##запрос [\"CSS\",\"HTML\",\"JavaScript\",80000]\n",
    "ans.head()"
   ]
  },
  {
   "cell_type": "code",
   "execution_count": 32,
   "metadata": {
    "collapsed": false
   },
   "outputs": [
    {
     "data": {
      "text/html": [
       "<div>\n",
       "<table border=\"1\" class=\"dataframe\">\n",
       "  <thead>\n",
       "    <tr style=\"text-align: right;\">\n",
       "      <th></th>\n",
       "      <th>Followers</th>\n",
       "      <th>Watchers</th>\n",
       "      <th>Link</th>\n",
       "      <th>Salary</th>\n",
       "    </tr>\n",
       "  </thead>\n",
       "  <tbody>\n",
       "    <tr>\n",
       "      <th>23098</th>\n",
       "      <td>44</td>\n",
       "      <td>7059</td>\n",
       "      <td>https://github.com/Jackneill</td>\n",
       "      <td>89829.504075</td>\n",
       "    </tr>\n",
       "    <tr>\n",
       "      <th>16059</th>\n",
       "      <td>37</td>\n",
       "      <td>6773</td>\n",
       "      <td>https://github.com/jbenner-radham</td>\n",
       "      <td>95999.721826</td>\n",
       "    </tr>\n",
       "    <tr>\n",
       "      <th>22396</th>\n",
       "      <td>335</td>\n",
       "      <td>5444</td>\n",
       "      <td>https://github.com/umaar</td>\n",
       "      <td>89829.504075</td>\n",
       "    </tr>\n",
       "    <tr>\n",
       "      <th>24174</th>\n",
       "      <td>21</td>\n",
       "      <td>5233</td>\n",
       "      <td>https://github.com/pingjiang</td>\n",
       "      <td>95999.721826</td>\n",
       "    </tr>\n",
       "    <tr>\n",
       "      <th>16043</th>\n",
       "      <td>122</td>\n",
       "      <td>4956</td>\n",
       "      <td>https://github.com/pyrotechnick</td>\n",
       "      <td>89829.504075</td>\n",
       "    </tr>\n",
       "  </tbody>\n",
       "</table>\n",
       "</div>"
      ],
      "text/plain": [
       "       Followers  Watchers                               Link        Salary\n",
       "23098         44      7059       https://github.com/Jackneill  89829.504075\n",
       "16059         37      6773  https://github.com/jbenner-radham  95999.721826\n",
       "22396        335      5444           https://github.com/umaar  89829.504075\n",
       "24174         21      5233       https://github.com/pingjiang  95999.721826\n",
       "16043        122      4956    https://github.com/pyrotechnick  89829.504075"
      ]
     },
     "execution_count": 32,
     "metadata": {},
     "output_type": "execute_result"
    }
   ],
   "source": [
    "# [\"C++\",\"C#\",90000]\n",
    "ans.head()"
   ]
  },
  {
   "cell_type": "code",
   "execution_count": 38,
   "metadata": {
    "collapsed": false
   },
   "outputs": [
    {
     "data": {
      "text/html": [
       "<div>\n",
       "<table border=\"1\" class=\"dataframe\">\n",
       "  <thead>\n",
       "    <tr style=\"text-align: right;\">\n",
       "      <th></th>\n",
       "      <th>Followers</th>\n",
       "      <th>Watchers</th>\n",
       "      <th>Link</th>\n",
       "      <th>Salary</th>\n",
       "    </tr>\n",
       "  </thead>\n",
       "  <tbody>\n",
       "    <tr>\n",
       "      <th>19944</th>\n",
       "      <td>134</td>\n",
       "      <td>6270</td>\n",
       "      <td>https://github.com/nxbdi</td>\n",
       "      <td>83162.945868</td>\n",
       "    </tr>\n",
       "    <tr>\n",
       "      <th>18065</th>\n",
       "      <td>65</td>\n",
       "      <td>4046</td>\n",
       "      <td>https://github.com/netconstructor</td>\n",
       "      <td>83657.997763</td>\n",
       "    </tr>\n",
       "    <tr>\n",
       "      <th>22400</th>\n",
       "      <td>281</td>\n",
       "      <td>3677</td>\n",
       "      <td>https://github.com/simplyianm</td>\n",
       "      <td>82265.265993</td>\n",
       "    </tr>\n",
       "    <tr>\n",
       "      <th>23875</th>\n",
       "      <td>1171</td>\n",
       "      <td>3393</td>\n",
       "      <td>https://github.com/dodola</td>\n",
       "      <td>83988.507440</td>\n",
       "    </tr>\n",
       "    <tr>\n",
       "      <th>19031</th>\n",
       "      <td>93</td>\n",
       "      <td>3232</td>\n",
       "      <td>https://github.com/shaobin0604</td>\n",
       "      <td>81102.043915</td>\n",
       "    </tr>\n",
       "  </tbody>\n",
       "</table>\n",
       "</div>"
      ],
      "text/plain": [
       "       Followers  Watchers                               Link        Salary\n",
       "19944        134      6270           https://github.com/nxbdi  83162.945868\n",
       "18065         65      4046  https://github.com/netconstructor  83657.997763\n",
       "22400        281      3677      https://github.com/simplyianm  82265.265993\n",
       "23875       1171      3393          https://github.com/dodola  83988.507440\n",
       "19031         93      3232     https://github.com/shaobin0604  81102.043915"
      ]
     },
     "execution_count": 38,
     "metadata": {},
     "output_type": "execute_result"
    }
   ],
   "source": [
    "# [\"SQL\", \"Go\", \"Java\", 90000]\n",
    "ans.head()"
   ]
  },
  {
   "cell_type": "code",
   "execution_count": null,
   "metadata": {
    "collapsed": true
   },
   "outputs": [],
   "source": []
  }
 ],
 "metadata": {
  "anaconda-cloud": {},
  "kernelspec": {
   "display_name": "Python [conda root]",
   "language": "python",
   "name": "conda-root-py"
  },
  "language_info": {
   "codemirror_mode": {
    "name": "ipython",
    "version": 3
   },
   "file_extension": ".py",
   "mimetype": "text/x-python",
   "name": "python",
   "nbconvert_exporter": "python",
   "pygments_lexer": "ipython3",
   "version": "3.5.2"
  }
 },
 "nbformat": 4,
 "nbformat_minor": 1
}
