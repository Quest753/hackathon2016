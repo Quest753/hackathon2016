{
 "cells": [
  {
   "cell_type": "code",
   "execution_count": 1,
   "metadata": {
    "collapsed": true
   },
   "outputs": [],
   "source": [
    "import pandas as pd\n",
    "import numpy as np\n",
    "import math"
   ]
  },
  {
   "cell_type": "code",
   "execution_count": 28,
   "metadata": {
    "collapsed": false
   },
   "outputs": [
    {
     "name": "stdout",
     "output_type": "stream",
     "text": [
      "Collecting sklearn\n",
      "  Downloading sklearn-0.0.tar.gz\n",
      "Collecting scikit-learn (from sklearn)\n",
      "  Downloading scikit_learn-0.18.1-cp35-cp35m-manylinux1_x86_64.whl (11.7MB)\n",
      "\u001b[K    100% |████████████████████████████████| 11.7MB 104kB/s \n",
      "\u001b[?25hBuilding wheels for collected packages: sklearn\n",
      "  Running setup.py bdist_wheel for sklearn ... \u001b[?25l-\b \bdone\n",
      "\u001b[?25h  Stored in directory: /root/.cache/pip/wheels/d7/db/a3/1b8041ab0be63b5c96c503df8e757cf205c2848cf9ef55f85e\n",
      "Successfully built sklearn\n",
      "Installing collected packages: scikit-learn, sklearn\n",
      "  Found existing installation: scikit-learn 0.17.1\n",
      "\u001b[31m    DEPRECATION: Uninstalling a distutils installed project (scikit-learn) has been deprecated and will be removed in a future version. This is due to the fact that uninstalling a distutils project will only partially uninstall the project.\u001b[0m\n",
      "    Uninstalling scikit-learn-0.17.1:\n",
      "      Successfully uninstalled scikit-learn-0.17.1\n",
      "Successfully installed scikit-learn-0.18.1 sklearn-0.0\n"
     ]
    }
   ],
   "source": [
    "!pip install sklearn --upgrade"
   ]
  },
  {
   "cell_type": "code",
   "execution_count": 30,
   "metadata": {
    "collapsed": false
   },
   "outputs": [],
   "source": [
    "from sklearn.ensemble import RandomForestRegressor\n",
    "from sklearn.cross_validation import train_test_split\n",
    "from sklearn.metrics import mean_squared_error\n",
    "from sklearn.metrics import mean_absolute_error\n",
    "from sklearn.metrics import hinge_loss"
   ]
  },
  {
   "cell_type": "code",
   "execution_count": 38,
   "metadata": {
    "collapsed": true
   },
   "outputs": [],
   "source": [
    "all_data = pd.read_csv('hhImprovedCleared.csv')"
   ]
  },
  {
   "cell_type": "code",
   "execution_count": 39,
   "metadata": {
    "collapsed": false
   },
   "outputs": [
    {
     "data": {
      "text/html": [
       "<div>\n",
       "<table border=\"1\" class=\"dataframe\">\n",
       "  <thead>\n",
       "    <tr style=\"text-align: right;\">\n",
       "      <th></th>\n",
       "      <th>ABAP</th>\n",
       "      <th>ASP</th>\n",
       "      <th>Assembly</th>\n",
       "      <th>C#</th>\n",
       "      <th>C++</th>\n",
       "      <th>CMake</th>\n",
       "      <th>CSS</th>\n",
       "      <th>Clojure</th>\n",
       "      <th>CoffeeScript</th>\n",
       "      <th>ColdFusion</th>\n",
       "      <th>...</th>\n",
       "      <th>Python</th>\n",
       "      <th>Ruby</th>\n",
       "      <th>SQL</th>\n",
       "      <th>Smarty</th>\n",
       "      <th>Swift</th>\n",
       "      <th>TypeScript</th>\n",
       "      <th>Visual Basic</th>\n",
       "      <th>XML</th>\n",
       "      <th>XSLT</th>\n",
       "      <th>Salary</th>\n",
       "    </tr>\n",
       "  </thead>\n",
       "  <tbody>\n",
       "    <tr>\n",
       "      <th>0</th>\n",
       "      <td>0.0</td>\n",
       "      <td>0.0</td>\n",
       "      <td>0.0</td>\n",
       "      <td>0.0</td>\n",
       "      <td>0.0</td>\n",
       "      <td>0.0</td>\n",
       "      <td>0.000000</td>\n",
       "      <td>0.0</td>\n",
       "      <td>0.0</td>\n",
       "      <td>0.0</td>\n",
       "      <td>...</td>\n",
       "      <td>0.0</td>\n",
       "      <td>0.000000</td>\n",
       "      <td>0.000000</td>\n",
       "      <td>0.0</td>\n",
       "      <td>0.0</td>\n",
       "      <td>0.0</td>\n",
       "      <td>0.0</td>\n",
       "      <td>0.0</td>\n",
       "      <td>0.0</td>\n",
       "      <td>93119.392280</td>\n",
       "    </tr>\n",
       "    <tr>\n",
       "      <th>1</th>\n",
       "      <td>0.0</td>\n",
       "      <td>0.0</td>\n",
       "      <td>0.0</td>\n",
       "      <td>0.0</td>\n",
       "      <td>0.0</td>\n",
       "      <td>0.0</td>\n",
       "      <td>0.000000</td>\n",
       "      <td>0.0</td>\n",
       "      <td>0.0</td>\n",
       "      <td>0.0</td>\n",
       "      <td>...</td>\n",
       "      <td>0.0</td>\n",
       "      <td>6.272346</td>\n",
       "      <td>0.000000</td>\n",
       "      <td>0.0</td>\n",
       "      <td>0.0</td>\n",
       "      <td>0.0</td>\n",
       "      <td>0.0</td>\n",
       "      <td>0.0</td>\n",
       "      <td>0.0</td>\n",
       "      <td>100281.954223</td>\n",
       "    </tr>\n",
       "    <tr>\n",
       "      <th>2</th>\n",
       "      <td>0.0</td>\n",
       "      <td>0.0</td>\n",
       "      <td>0.0</td>\n",
       "      <td>0.0</td>\n",
       "      <td>0.0</td>\n",
       "      <td>0.0</td>\n",
       "      <td>0.000000</td>\n",
       "      <td>0.0</td>\n",
       "      <td>0.0</td>\n",
       "      <td>0.0</td>\n",
       "      <td>...</td>\n",
       "      <td>0.0</td>\n",
       "      <td>0.000000</td>\n",
       "      <td>0.000000</td>\n",
       "      <td>0.0</td>\n",
       "      <td>0.0</td>\n",
       "      <td>0.0</td>\n",
       "      <td>0.0</td>\n",
       "      <td>0.0</td>\n",
       "      <td>0.0</td>\n",
       "      <td>50824.346546</td>\n",
       "    </tr>\n",
       "    <tr>\n",
       "      <th>3</th>\n",
       "      <td>0.0</td>\n",
       "      <td>0.0</td>\n",
       "      <td>0.0</td>\n",
       "      <td>0.0</td>\n",
       "      <td>0.0</td>\n",
       "      <td>0.0</td>\n",
       "      <td>6.280551</td>\n",
       "      <td>0.0</td>\n",
       "      <td>0.0</td>\n",
       "      <td>0.0</td>\n",
       "      <td>...</td>\n",
       "      <td>0.0</td>\n",
       "      <td>0.000000</td>\n",
       "      <td>0.000000</td>\n",
       "      <td>0.0</td>\n",
       "      <td>0.0</td>\n",
       "      <td>0.0</td>\n",
       "      <td>0.0</td>\n",
       "      <td>0.0</td>\n",
       "      <td>0.0</td>\n",
       "      <td>15626.186064</td>\n",
       "    </tr>\n",
       "    <tr>\n",
       "      <th>4</th>\n",
       "      <td>0.0</td>\n",
       "      <td>0.0</td>\n",
       "      <td>0.0</td>\n",
       "      <td>0.0</td>\n",
       "      <td>0.0</td>\n",
       "      <td>0.0</td>\n",
       "      <td>6.775590</td>\n",
       "      <td>0.0</td>\n",
       "      <td>0.0</td>\n",
       "      <td>0.0</td>\n",
       "      <td>...</td>\n",
       "      <td>0.0</td>\n",
       "      <td>6.710762</td>\n",
       "      <td>6.743112</td>\n",
       "      <td>0.0</td>\n",
       "      <td>0.0</td>\n",
       "      <td>0.0</td>\n",
       "      <td>0.0</td>\n",
       "      <td>0.0</td>\n",
       "      <td>0.0</td>\n",
       "      <td>95351.762213</td>\n",
       "    </tr>\n",
       "  </tbody>\n",
       "</table>\n",
       "<p>5 rows × 37 columns</p>\n",
       "</div>"
      ],
      "text/plain": [
       "   ABAP  ASP  Assembly   C#  C++  CMake       CSS  Clojure  CoffeeScript  \\\n",
       "0   0.0  0.0       0.0  0.0  0.0    0.0  0.000000      0.0           0.0   \n",
       "1   0.0  0.0       0.0  0.0  0.0    0.0  0.000000      0.0           0.0   \n",
       "2   0.0  0.0       0.0  0.0  0.0    0.0  0.000000      0.0           0.0   \n",
       "3   0.0  0.0       0.0  0.0  0.0    0.0  6.280551      0.0           0.0   \n",
       "4   0.0  0.0       0.0  0.0  0.0    0.0  6.775590      0.0           0.0   \n",
       "\n",
       "   ColdFusion      ...        Python      Ruby       SQL  Smarty  Swift  \\\n",
       "0         0.0      ...           0.0  0.000000  0.000000     0.0    0.0   \n",
       "1         0.0      ...           0.0  6.272346  0.000000     0.0    0.0   \n",
       "2         0.0      ...           0.0  0.000000  0.000000     0.0    0.0   \n",
       "3         0.0      ...           0.0  0.000000  0.000000     0.0    0.0   \n",
       "4         0.0      ...           0.0  6.710762  6.743112     0.0    0.0   \n",
       "\n",
       "   TypeScript  Visual Basic  XML  XSLT         Salary  \n",
       "0         0.0           0.0  0.0   0.0   93119.392280  \n",
       "1         0.0           0.0  0.0   0.0  100281.954223  \n",
       "2         0.0           0.0  0.0   0.0   50824.346546  \n",
       "3         0.0           0.0  0.0   0.0   15626.186064  \n",
       "4         0.0           0.0  0.0   0.0   95351.762213  \n",
       "\n",
       "[5 rows x 37 columns]"
      ]
     },
     "execution_count": 39,
     "metadata": {},
     "output_type": "execute_result"
    }
   ],
   "source": [
    "all_data.head()"
   ]
  },
  {
   "cell_type": "code",
   "execution_count": 40,
   "metadata": {
    "collapsed": true
   },
   "outputs": [],
   "source": [
    "y = all_data['Salary']\n",
    "del all_data['Salary']\n",
    "X = all_data"
   ]
  },
  {
   "cell_type": "code",
   "execution_count": 41,
   "metadata": {
    "collapsed": true
   },
   "outputs": [],
   "source": [
    "Xtrain, Xtest, Ytrain, Ytest = train_test_split(X, y, test_size=0.1)"
   ]
  },
  {
   "cell_type": "code",
   "execution_count": 42,
   "metadata": {
    "collapsed": true
   },
   "outputs": [],
   "source": [
    "model = RandomForestRegressor()"
   ]
  },
  {
   "cell_type": "code",
   "execution_count": 43,
   "metadata": {
    "collapsed": false
   },
   "outputs": [
    {
     "data": {
      "text/plain": [
       "RandomForestRegressor(bootstrap=True, criterion='mse', max_depth=None,\n",
       "           max_features='auto', max_leaf_nodes=None, min_samples_leaf=1,\n",
       "           min_samples_split=2, min_weight_fraction_leaf=0.0,\n",
       "           n_estimators=10, n_jobs=1, oob_score=False, random_state=None,\n",
       "           verbose=0, warm_start=False)"
      ]
     },
     "execution_count": 43,
     "metadata": {},
     "output_type": "execute_result"
    }
   ],
   "source": [
    "model.fit(Xtrain, Ytrain)"
   ]
  },
  {
   "cell_type": "code",
   "execution_count": 44,
   "metadata": {
    "collapsed": false
   },
   "outputs": [
    {
     "data": {
      "text/plain": [
       "35461341.337703764"
      ]
     },
     "execution_count": 44,
     "metadata": {},
     "output_type": "execute_result"
    }
   ],
   "source": [
    "math.sqrt(mean_squared_error(model.predict(Xtest), Ytest))"
   ]
  },
  {
   "cell_type": "code",
   "execution_count": 45,
   "metadata": {
    "collapsed": false
   },
   "outputs": [
    {
     "data": {
      "text/plain": [
       "7132636.0072670253"
      ]
     },
     "execution_count": 45,
     "metadata": {},
     "output_type": "execute_result"
    }
   ],
   "source": [
    "mean_absolute_error(model.predict(Xtest), Ytest)"
   ]
  },
  {
   "cell_type": "code",
   "execution_count": null,
   "metadata": {
    "collapsed": true
   },
   "outputs": [],
   "source": []
  },
  {
   "cell_type": "code",
   "execution_count": 36,
   "metadata": {
    "collapsed": false,
    "scrolled": true
   },
   "outputs": [
    {
     "ename": "IndexError",
     "evalue": "too many indices for array",
     "output_type": "error",
     "traceback": [
      "\u001b[0;31m---------------------------------------------------------------------------\u001b[0m",
      "\u001b[0;31mIndexError\u001b[0m                                Traceback (most recent call last)",
      "\u001b[0;32m<ipython-input-36-fc62ce81414a>\u001b[0m in \u001b[0;36m<module>\u001b[0;34m()\u001b[0m\n\u001b[0;32m----> 1\u001b[0;31m \u001b[0mhinge_loss\u001b[0m\u001b[0;34m(\u001b[0m\u001b[0mYtest\u001b[0m\u001b[0;34m,\u001b[0m \u001b[0mmodel\u001b[0m\u001b[0;34m.\u001b[0m\u001b[0mpredict\u001b[0m\u001b[0;34m(\u001b[0m\u001b[0mXtest\u001b[0m\u001b[0;34m)\u001b[0m\u001b[0;34m)\u001b[0m\u001b[0;34m\u001b[0m\u001b[0m\n\u001b[0m",
      "\u001b[0;32m/anaconda3/lib/python3.5/site-packages/sklearn/metrics/classification.py\u001b[0m in \u001b[0;36mhinge_loss\u001b[0;34m(y_true, pred_decision, labels, sample_weight)\u001b[0m\n\u001b[1;32m   1672\u001b[0m     \u001b[0malways\u001b[0m \u001b[0mnegative\u001b[0m \u001b[0;34m(\u001b[0m\u001b[0msince\u001b[0m \u001b[0mthe\u001b[0m \u001b[0msigns\u001b[0m \u001b[0mdisagree\u001b[0m\u001b[0;34m)\u001b[0m\u001b[0;34m,\u001b[0m \u001b[0mimplying\u001b[0m\u001b[0;31m \u001b[0m\u001b[0;31m`\u001b[0m\u001b[0;31m`\u001b[0m\u001b[0;36m1\u001b[0m \u001b[0;34m-\u001b[0m \u001b[0mmargin\u001b[0m\u001b[0;31m`\u001b[0m\u001b[0;31m`\u001b[0m \u001b[0;32mis\u001b[0m\u001b[0;34m\u001b[0m\u001b[0m\n\u001b[1;32m   1673\u001b[0m     \u001b[0malways\u001b[0m \u001b[0mgreater\u001b[0m \u001b[0mthan\u001b[0m \u001b[0;36m1.\u001b[0m  \u001b[0mThe\u001b[0m \u001b[0mcumulated\u001b[0m \u001b[0mhinge\u001b[0m \u001b[0mloss\u001b[0m \u001b[0;32mis\u001b[0m \u001b[0mtherefore\u001b[0m \u001b[0man\u001b[0m \u001b[0mupper\u001b[0m\u001b[0;34m\u001b[0m\u001b[0m\n\u001b[0;32m-> 1674\u001b[0;31m     \u001b[0mbound\u001b[0m \u001b[0mof\u001b[0m \u001b[0mthe\u001b[0m \u001b[0mnumber\u001b[0m \u001b[0mof\u001b[0m \u001b[0mmistakes\u001b[0m \u001b[0mmade\u001b[0m \u001b[0mby\u001b[0m \u001b[0mthe\u001b[0m \u001b[0mclassifier\u001b[0m\u001b[0;34m.\u001b[0m\u001b[0;34m\u001b[0m\u001b[0m\n\u001b[0m\u001b[1;32m   1675\u001b[0m \u001b[0;34m\u001b[0m\u001b[0m\n\u001b[1;32m   1676\u001b[0m     \u001b[0mIn\u001b[0m \u001b[0mmulticlass\u001b[0m \u001b[0mcase\u001b[0m\u001b[0;34m,\u001b[0m \u001b[0mthe\u001b[0m \u001b[0mfunction\u001b[0m \u001b[0mexpects\u001b[0m \u001b[0mthat\u001b[0m \u001b[0meither\u001b[0m \u001b[0mall\u001b[0m \u001b[0mthe\u001b[0m \u001b[0mlabels\u001b[0m \u001b[0mare\u001b[0m\u001b[0;34m\u001b[0m\u001b[0m\n",
      "\u001b[0;31mIndexError\u001b[0m: too many indices for array"
     ]
    }
   ],
   "source": [
    "hinge_loss(Ytest, model.predict(Xtest))"
   ]
  },
  {
   "cell_type": "code",
   "execution_count": 23,
   "metadata": {
    "collapsed": false,
    "scrolled": true
   },
   "outputs": [
    {
     "name": "stderr",
     "output_type": "stream",
     "text": [
      "/anaconda3/lib/python3.5/site-packages/sklearn/utils/validation.py:386: DeprecationWarning: Passing 1d arrays as data is deprecated in 0.17 and willraise ValueError in 0.19. Reshape your data either using X.reshape(-1, 1) if your data has a single feature or X.reshape(1, -1) if it contains a single sample.\n",
      "  DeprecationWarning)\n"
     ]
    },
    {
     "data": {
      "text/plain": [
       "(array([  2.09469413e+08]), 94310.247006428806)"
      ]
     },
     "execution_count": 23,
     "metadata": {},
     "output_type": "execute_result"
    }
   ],
   "source": [
    "model.predict(Xtest.iloc[81]), Ytest.iloc[81]"
   ]
  },
  {
   "cell_type": "code",
   "execution_count": 24,
   "metadata": {
    "collapsed": false
   },
   "outputs": [
    {
     "data": {
      "text/plain": [
       "(ABAP            0.000000\n",
       " ASP             0.000000\n",
       " Assembly        0.000000\n",
       " C#              0.000000\n",
       " C++             0.000000\n",
       " CMake           0.000000\n",
       " CSS             0.000000\n",
       " Clojure         0.000000\n",
       " CoffeeScript    0.000000\n",
       " ColdFusion      0.000000\n",
       " Delphi          7.377673\n",
       " FreeMarker      0.000000\n",
       " GLSL            0.000000\n",
       " Go              0.000000\n",
       " Groovy          0.000000\n",
       " HTML            0.000000\n",
       " Handlebars      0.000000\n",
       " Java            0.000000\n",
       " JavaScript      0.000000\n",
       " Kotlin          0.000000\n",
       " Lua             0.000000\n",
       " Nginx           0.000000\n",
       " Objective-C     0.000000\n",
       " PHP             0.000000\n",
       " Perl            0.000000\n",
       " PowerShell      0.000000\n",
       " Puppet          0.000000\n",
       " Python          7.327033\n",
       " Ruby            0.000000\n",
       " SQL             7.387624\n",
       " Smarty          0.000000\n",
       " Swift           0.000000\n",
       " TypeScript      0.000000\n",
       " Visual Basic    0.000000\n",
       " XML             0.000000\n",
       " XSLT            0.000000\n",
       " Name: 149, dtype: float64, 94310.247006428806)"
      ]
     },
     "execution_count": 24,
     "metadata": {},
     "output_type": "execute_result"
    }
   ],
   "source": [
    "Xtest.iloc[81], Ytest.iloc[81]"
   ]
  },
  {
   "cell_type": "code",
   "execution_count": 11,
   "metadata": {
    "collapsed": true
   },
   "outputs": [],
   "source": [
    "predicted = model.predict(Xtest)"
   ]
  },
  {
   "cell_type": "code",
   "execution_count": 22,
   "metadata": {
    "collapsed": false
   },
   "outputs": [
    {
     "data": {
      "text/plain": [
       "81"
      ]
     },
     "execution_count": 22,
     "metadata": {},
     "output_type": "execute_result"
    }
   ],
   "source": [
    "np.argmax(predicted)"
   ]
  },
  {
   "cell_type": "code",
   "execution_count": 26,
   "metadata": {
    "collapsed": false
   },
   "outputs": [
    {
     "data": {
      "text/plain": [
       "array([  1.38342952e+04,   1.95788777e+04,   2.36695165e+04,\n",
       "         2.76896360e+04,   2.78880340e+04,   2.79615395e+04,\n",
       "         2.80277880e+04,   2.80277880e+04,   2.86740624e+04,\n",
       "         2.90484161e+04,   2.90484161e+04,   2.91764737e+04,\n",
       "         2.96208141e+04,   2.96208141e+04,   3.05198033e+04,\n",
       "         3.13382790e+04,   3.13382790e+04,   3.13382790e+04,\n",
       "         3.13382790e+04,   3.29300998e+04,   3.30288752e+04,\n",
       "         3.34629145e+04,   3.39237250e+04,   3.40465243e+04,\n",
       "         3.40909643e+04,   3.44954661e+04,   3.46636304e+04,\n",
       "         3.52930583e+04,   3.53548231e+04,   3.57445581e+04,\n",
       "         3.57445581e+04,   3.57445581e+04,   3.57445581e+04,\n",
       "         3.57445581e+04,   3.57445581e+04,   3.59966903e+04,\n",
       "         3.63962731e+04,   3.65826554e+04,   3.67355484e+04,\n",
       "         3.70381939e+04,   3.73023801e+04,   3.73265831e+04,\n",
       "         3.76219607e+04,   3.77137689e+04,   3.80865073e+04,\n",
       "         3.80865073e+04,   3.90798757e+04,   3.91258192e+04,\n",
       "         3.94978099e+04,   4.03474070e+04,   4.03947420e+04,\n",
       "         4.05481593e+04,   4.07011836e+04,   4.11029325e+04,\n",
       "         4.21440598e+04,   4.22426523e+04,   4.24568158e+04,\n",
       "         4.25876675e+04,   4.26146188e+04,   4.29492122e+04,\n",
       "         4.30107081e+04,   4.36390473e+04,   4.38334135e+04,\n",
       "         4.39469440e+04,   4.43130456e+04,   4.44099551e+04,\n",
       "         4.51745086e+04,   4.53126114e+04,   4.54587233e+04,\n",
       "         4.56176531e+04,   4.57579639e+04,   4.58159287e+04,\n",
       "         4.58749098e+04,   4.72530810e+04,   4.74250030e+04,\n",
       "         4.75212893e+04,   4.84321689e+04,   4.84502297e+04,\n",
       "         4.84762567e+04,   4.84790536e+04,   4.86191962e+04,\n",
       "         4.87000855e+04,   4.90200473e+04,   4.92640326e+04,\n",
       "         4.95253977e+04,   4.97489430e+04,   4.98985075e+04,\n",
       "         5.05415519e+04,   5.07102299e+04,   5.07624104e+04,\n",
       "         5.10591619e+04,   5.13952395e+04,   5.17641614e+04,\n",
       "         5.18697454e+04,   5.18725721e+04,   5.21251779e+04,\n",
       "         5.21592875e+04,   5.22504517e+04,   5.25432491e+04,\n",
       "         5.28259376e+04,   5.29098415e+04,   5.31154904e+04,\n",
       "         5.35395710e+04,   5.40564083e+04,   5.47125017e+04,\n",
       "         5.48014415e+04,   5.48671436e+04,   5.51846126e+04,\n",
       "         5.52119225e+04,   5.65800169e+04,   5.77279932e+04,\n",
       "         5.81203818e+04,   5.82762892e+04,   5.83960259e+04,\n",
       "         5.88530037e+04,   5.91914767e+04,   6.02156130e+04,\n",
       "         6.02156130e+04,   6.05428323e+04,   6.09494826e+04,\n",
       "         6.09628713e+04,   6.12078495e+04,   6.13859980e+04,\n",
       "         6.16389415e+04,   6.24373960e+04,   6.29286352e+04,\n",
       "         6.36680444e+04,   6.38398506e+04,   6.40162671e+04,\n",
       "         6.41675920e+04,   6.49325982e+04,   6.57077624e+04,\n",
       "         6.59177032e+04,   6.71161232e+04,   6.82482945e+04,\n",
       "         6.87645787e+04,   6.96153693e+04,   6.98606043e+04,\n",
       "         7.05484730e+04,   7.06675015e+04,   7.10946673e+04,\n",
       "         7.12724024e+04,   7.16453581e+04,   7.18057998e+04,\n",
       "         7.19660576e+04,   7.20678840e+04,   7.26827303e+04,\n",
       "         7.28986241e+04,   7.29815917e+04,   7.36440990e+04,\n",
       "         7.47521654e+04,   7.49085178e+04,   7.52119150e+04,\n",
       "         7.53791687e+04,   7.58521690e+04,   7.60964622e+04,\n",
       "         7.61858987e+04,   7.66810023e+04,   7.67073976e+04,\n",
       "         7.69676523e+04,   7.71272160e+04,   7.72776902e+04,\n",
       "         7.73715840e+04,   7.73948762e+04,   7.76074656e+04,\n",
       "         7.76252163e+04,   7.78789130e+04,   7.79857203e+04,\n",
       "         7.90143671e+04,   7.94512461e+04,   7.95832082e+04,\n",
       "         7.97347558e+04,   7.99621138e+04,   8.01044715e+04,\n",
       "         8.06757656e+04,   8.14534847e+04,   8.18506049e+04,\n",
       "         8.18644505e+04,   8.27096226e+04,   8.27583170e+04,\n",
       "         8.28358143e+04,   8.30674611e+04,   8.31269818e+04,\n",
       "         8.33632745e+04,   8.34750389e+04,   8.36675460e+04,\n",
       "         8.36675460e+04,   8.44044189e+04,   8.55176130e+04,\n",
       "         8.71350626e+04,   8.71605470e+04,   8.73484475e+04,\n",
       "         8.79811516e+04,   8.80150705e+04,   8.81943381e+04,\n",
       "         8.86453661e+04,   9.04014296e+04,   9.14590078e+04,\n",
       "         9.16101507e+04,   9.19481979e+04,   9.19481979e+04,\n",
       "         9.20387961e+04,   9.21144271e+04,   9.22946245e+04,\n",
       "         9.30149388e+04,   9.30355157e+04,   9.42437666e+04,\n",
       "         9.52214280e+04,   9.52992328e+04,   9.58980841e+04,\n",
       "         9.62513845e+04,   9.70831094e+04,   9.76179048e+04,\n",
       "         9.77315249e+04,   9.81059570e+04,   9.84254310e+04,\n",
       "         9.87975011e+04,   9.87975011e+04,   1.03461242e+05,\n",
       "         1.03461242e+05,   1.05134617e+05,   1.06300432e+05,\n",
       "         1.06300432e+05,   1.06685735e+05,   1.06910866e+05,\n",
       "         1.07273908e+05,   1.08635532e+05,   1.08673795e+05,\n",
       "         1.11154837e+05,   1.11190963e+05,   1.11580889e+05,\n",
       "         1.11632219e+05,   1.12016111e+05,   1.12151041e+05,\n",
       "         1.12970437e+05,   1.13010822e+05,   1.13714923e+05,\n",
       "         1.14573211e+05,   1.14807776e+05,   1.17389651e+05,\n",
       "         1.17874185e+05,   1.19387181e+05,   1.19429435e+05,\n",
       "         1.21520756e+05,   1.22038859e+05,   1.22177241e+05,\n",
       "         1.22177241e+05,   1.22590687e+05,   1.23307737e+05,\n",
       "         1.23491522e+05,   1.26599478e+05,   1.28922127e+05,\n",
       "         1.28940353e+05,   1.34887031e+05,   1.36608643e+05,\n",
       "         1.39385520e+05,   1.41344712e+05,   1.42438489e+05,\n",
       "         1.44489621e+05,   1.45449607e+05,   1.50218925e+05,\n",
       "         1.62201511e+05,   1.62666990e+05,   1.64894005e+05,\n",
       "         1.76015427e+05,   1.92146371e+05,   1.93891511e+05,\n",
       "         2.00000000e+05,   2.00000000e+05,   2.00000000e+05,\n",
       "         2.06982318e+05,   2.40511148e+05,   2.48086745e+05,\n",
       "         2.48086745e+05,   2.48086745e+05,   2.48086745e+05,\n",
       "         2.54460121e+05,   1.28669829e+07,   1.28741945e+07,\n",
       "         1.92550072e+07,   2.09053097e+07,   2.56763515e+07,\n",
       "         3.96593073e+07,   4.17688973e+07,   5.10439318e+07,\n",
       "         5.10539880e+07,   5.78856710e+07,   2.09469413e+08])"
      ]
     },
     "execution_count": 26,
     "metadata": {},
     "output_type": "execute_result"
    }
   ],
   "source": [
    "np.sort(predicted)"
   ]
  },
  {
   "cell_type": "code",
   "execution_count": null,
   "metadata": {
    "collapsed": true
   },
   "outputs": [],
   "source": []
  }
 ],
 "metadata": {
  "anaconda-cloud": {},
  "kernelspec": {
   "display_name": "Python [conda root]",
   "language": "python",
   "name": "conda-root-py"
  },
  "language_info": {
   "codemirror_mode": {
    "name": "ipython",
    "version": 3
   },
   "file_extension": ".py",
   "mimetype": "text/x-python",
   "name": "python",
   "nbconvert_exporter": "python",
   "pygments_lexer": "ipython3",
   "version": "3.5.2"
  }
 },
 "nbformat": 4,
 "nbformat_minor": 1
}
